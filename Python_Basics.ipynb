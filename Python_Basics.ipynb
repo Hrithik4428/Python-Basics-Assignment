{
  "nbformat": 4,
  "nbformat_minor": 0,
  "metadata": {
    "colab": {
      "private_outputs": true,
      "provenance": []
    },
    "kernelspec": {
      "name": "python3",
      "display_name": "Python 3"
    },
    "language_info": {
      "name": "python"
    }
  },
  "cells": [
    {
      "cell_type": "markdown",
      "source": [
        "# Python Basics (Theory)\n",
        "\n"
      ],
      "metadata": {
        "id": "hvhLAaDPaVHE"
      }
    },
    {
      "cell_type": "markdown",
      "source": [
        "1. What is Python, and why is it popular?\n",
        "Ans: - Python is a high-level, general-purpose programming language known for its clear syntax and readability. It supports multiple programming paradigms, including procedural, object-oriented, and functional programming.\n",
        "Popularity reasons:\n",
        "•\tEasy to learn and use\n",
        "•\tExtensive libraries and frameworks\n",
        "•\tStrong community support\n",
        "•\tVersatile applications (web, data science, AI, automation)\n",
        "________________________________________\n",
        "2. What is an interpreter in Python?\n",
        "Ans: - An interpreter is a program that executes Python code line by line. It translates high-level Python code into machine-readable instructions during runtime, allowing for immediate feedback and debugging.\n",
        "________________________________________\n",
        "3. What are pre-defined keywords in Python?\n",
        "Ans: - Pre-defined keywords are reserved words in Python that have special meaning and are part of the language syntax. Examples include if, else, while, for, def, class, True, False, etc. These cannot be used as identifiers like variable names.\n",
        "________________________________________\n",
        "4. Can keywords be used as variable names?\n",
        "Ans: - No, keywords cannot be used as variable names because they are reserved for specific functions and control structures in Python. Using them as variable names would result in a syntax error.\n",
        "________________________________________\n",
        "5. What is mutability in Python?\n",
        "Ans: - Mutability refers to the ability of an object to be changed after it is created.\n",
        "•\tMutable objects can be modified (e.g., lists, dictionaries).\n",
        "•\tImmutable objects cannot be changed (e.g., strings, tuples).\n",
        "________________________________________\n",
        "6. Why are lists mutable, but tuples are immutable?\n",
        "Ans: - Lists are designed to store dynamic data, allowing modifications like adding or removing elements. Tuples, on the other hand, are meant to store fixed data, ensuring consistency and allowing them to be used as keys in dictionaries due to their immutability.\n",
        "________________________________________\n",
        "7. What is the difference between “==” and “is” operators in Python?\n",
        "•\tAns: - == checks if two variables have the same value.\n",
        "•\tis checks if two variables refer to the same object in memory.\n",
        "________________________________________\n",
        "8. What are logical operators in Python?\n",
        "Ans: - Logical operators are used to combine boolean expressions:\n",
        "•\tand: Returns True if both operands are True.\n",
        "•\tor: Returns True if at least one operand is True.\n",
        "•\tnot: Returns the opposite of the operand’s boolean value.\n",
        "________________________________________\n",
        "9. What is type casting in Python?\n",
        "Ans: - Type casting is the process of converting a variable from one data type to another. It can be done manually using functions like int(), float(), str(), etc.\n",
        "________________________________________\n",
        "10. What is the difference between implicit and explicit type casting?\n",
        "Ans: -\n",
        "•\tImplicit casting is done automatically by Python when needed.\n",
        "•\tExplicit casting is done manually by the programmer using casting functions.\n",
        "________________________________________\n",
        "11. What is the purpose of conditional statements in Python?\n",
        "Ans: - Conditional statements allow the program to make decisions based on certain conditions. They control the flow of execution using if, elif, and else statements.\n",
        "________________________________________\n",
        "12. How does the elif statement work?\n",
        "Ans: - The elif (else if) statement allows checking multiple conditions after an initial if. If the if condition is False, Python checks the elif condition(s) before moving to else.\n",
        "________________________________________\n",
        "13. What is the difference between for and while loops?\n",
        "Ans: -\n",
        "•\tfor loop: Used when the number of iterations is known or when iterating over a sequence.\n",
        "•\twhile loop: Used when the loop should continue until a condition becomes False.\n",
        "________________________________________\n",
        "14. Describe a scenario where a while loop is more suitable than a for loop.\n",
        "Ans: - A while loop is more suitable when the number of iterations is not known in advance.\n",
        "Example: Continuously prompting a user for input until they enter a specific value like \"exit\".\n",
        "\n"
      ],
      "metadata": {
        "id": "M8dvjkR-b7qH"
      }
    },
    {
      "cell_type": "markdown",
      "source": [
        "# Python Basics (Pratical)\n"
      ],
      "metadata": {
        "id": "JjljcM5_zKtM"
      }
    },
    {
      "cell_type": "code",
      "source": [
        "# 1. Write a Python program to print \"Hello, World!.\n",
        "print(\"Hello, World!\")\n"
      ],
      "metadata": {
        "id": "vHOubtD3zfEF"
      },
      "execution_count": null,
      "outputs": []
    },
    {
      "cell_type": "code",
      "source": [
        "# 2.Write a Python program that displays your name and age.\n",
        "name = input(\"Enter your name: \")\n",
        "age = input(\"Enter your age: \")\n",
        "print(\"Name:\", name)\n",
        "print(\"Age:\", age)"
      ],
      "metadata": {
        "id": "3xp6yQUI1OYg"
      },
      "execution_count": null,
      "outputs": []
    },
    {
      "cell_type": "code",
      "source": [
        "# 3. Write code to print all the pre-defined keywords in Python using the keyword library.\n",
        "\n",
        "import keyword\n",
        "\n",
        "# Get the list of all Python keywords\n",
        "keywords_list = keyword.kwlist\n",
        "\n",
        "# Print the keywords\n",
        "print(\"List of all predefined keywords in Python:\")\n",
        "for kw in keywords_list:\n",
        "    print(kw)"
      ],
      "metadata": {
        "id": "UVGb3BXw2Kzc"
      },
      "execution_count": null,
      "outputs": []
    },
    {
      "cell_type": "code",
      "source": [
        "# 4. Write a program that checks if a given word is a Python keyword.\n",
        "import keyword\n",
        "\n",
        "# Get a word from the user\n",
        "word = input(\"Enter a word: \")\n",
        "\n",
        "# Check if the word is a Python keyword\n",
        "if keyword.iskeyword(word):\n",
        "    print(f\"'{word}' is a Python keyword.\")"
      ],
      "metadata": {
        "id": "7kE4F3OS6sCE"
      },
      "execution_count": null,
      "outputs": []
    },
    {
      "cell_type": "code",
      "source": [
        "# 5. Create a list and tuple in Python, and demonstrate how attempting to change an element works differently for each.\n",
        "  # Creating a list and a tuple\n",
        "my_list = [10, 20, 30]\n",
        "my_tuple = (10, 20, 30)\n",
        "\n",
        "# Changing an element in the list\n",
        "print(\"Original list:\", my_list)\n",
        "my_list[1] = 200  # Lists are mutable\n",
        "print(\"List after modification:\", my_list)\n",
        "\n",
        "# Attempting to change an element in the tuple\n",
        "print(\"\\nOriginal tuple:\", my_tuple)\n",
        "try:\n",
        "    my_tuple[1] = 200  # Tuples are immutable\n",
        "except TypeError as e:\n",
        "    print(\"Error when trying to modify tuple:\",e)\n"
      ],
      "metadata": {
        "id": "V1szJj7L7YLO"
      },
      "execution_count": null,
      "outputs": []
    },
    {
      "cell_type": "code",
      "source": [
        "# 6. Write a function to demonstrate the behavior of mutable and immutable arguments.\n",
        "\n",
        "def modify_arguments(immutable_arg, mutable_arg):\n",
        "    print(\"\\nInside function (before modification):\")\n",
        "    print(\"Immutable argument:\", immutable_arg)\n",
        "    print(\"Mutable argument:\", mutable_arg)\n",
        "\n",
        "    # Attempt to modify the immutable argument (e.g., int or string)\n",
        "    immutable_arg += 10\n",
        "\n",
        "    # Modify the mutable argument (e.g., list)\n",
        "    mutable_arg.append(100)\n",
        "\n",
        "    print(\"\\nInside function (after modification):\")\n",
        "    print(\"Immutable argument:\", immutable_arg)\n",
        "    print(\"Mutable argument:\", mutable_arg)\n",
        "\n",
        "# Immutable argument (integer)\n",
        "x = 5\n",
        "\n",
        "# Mutable argument (list)\n",
        "y = [1, 2, 3]\n",
        "\n",
        "# Call the function\n",
        "modify_arguments(x, y)\n",
        "\n",
        "# Show values after function call\n",
        "print(\"\\nOutside function (after function call):\")\n",
        "print(\"Immutable argument:\", x)\n",
        "print(\"Mutable argument:\", y)"
      ],
      "metadata": {
        "id": "mxzaV8H18HZZ"
      },
      "execution_count": null,
      "outputs": []
    },
    {
      "cell_type": "code",
      "source": [
        "# 7. Write a program that performs basic arithmetic operations on two user-input numbers.\n",
        "\n",
        "# Get input from the user\n",
        "num1 = float(input(\"Enter the first number: \"))\n",
        "num2 = float(input(\"Enter the second number: \"))\n",
        "\n",
        "# Perform arithmetic operations\n",
        "addition = num1 + num2\n",
        "subtraction = num1 - num2\n",
        "multiplication = num1 * num2\n",
        "\n",
        "# Handle division by zero\n",
        "if num2 != 0:\n",
        "    division = num1 / num2\n",
        "else:\n",
        "    division = \"Undefined (division by zero)\"\n",
        "\n",
        "# Display the results\n",
        "print(\"\\n--- Arithmetic Operations Results ---\")\n",
        "print(f\"Addition: {num1} + {num2} = {addition}\")\n",
        "print(f\"Subtraction: {num1} - {num2} = {subtraction}\")\n",
        "print(f\"Multiplication: {num1} * {num2} = {multiplication}\")\n",
        "print(f\"Division: {num1} / {num2} = {division}\")\n"
      ],
      "metadata": {
        "id": "PS7g0KCV9jpQ"
      },
      "execution_count": null,
      "outputs": []
    },
    {
      "cell_type": "markdown",
      "source": [],
      "metadata": {
        "id": "1hY7q8Pt9Uw8"
      }
    },
    {
      "cell_type": "markdown",
      "source": [],
      "metadata": {
        "id": "SHUBEDYs6P5g"
      }
    },
    {
      "cell_type": "code",
      "source": [
        " # 8. Write a program to demonstrate the use of logical operators.\n",
        "\n",
        "a = 10\n",
        "b = 20\n",
        "\n",
        "# and operator\n",
        "if a > 5 and b > 15:\n",
        "    print(\"Both conditions are True (using AND)\")\n",
        "\n",
        "# or operator\n",
        "if a > 15 or b > 15:\n",
        "    print(\"At least one condition is True (using OR)\")\n",
        "\n",
        "# not operator\n",
        "if not(a > 15):\n",
        "    print(\"Condition is False, so NOT makes it True\")"
      ],
      "metadata": {
        "id": "z0Gb1S_b-OgN"
      },
      "execution_count": null,
      "outputs": []
    },
    {
      "cell_type": "code",
      "source": [
        "# 9. Write a Python program to convert user input from string to integer, float, and boolean types.\n",
        "\n",
        "\n",
        "# Taking input from user\n",
        "data = input(\"Enter something: \")\n",
        "\n",
        "# Converting to integer\n",
        "try:\n",
        "    int_value = int(data)\n",
        "    print(\"Integer value:\", int_value)\n",
        "except ValueError:\n",
        "    print(\"Cannot convert to integer\")\n",
        "\n",
        "# Converting to float\n",
        "try:\n",
        "    float_value = float(data)\n",
        "    print(\"Float value:\", float_value)\n",
        "except ValueError:\n",
        "    print(\"Cannot convert to float\")\n",
        "\n",
        "# Converting to boolean\n",
        "bool_value = bool(data)\n",
        "print(\"Boolean value:\", bool_value)\n"
      ],
      "metadata": {
        "id": "UuVzlmDQskYu"
      },
      "execution_count": null,
      "outputs": []
    },
    {
      "cell_type": "code",
      "source": [
        "#10.Write code to demonstrate type casting with list elements.\n",
        "\n",
        "\n",
        "str_list = [\"10\", \"20\", \"30\", \"40\"]\n",
        "\n",
        "print(\"Original list (strings):\", str_list)\n",
        "\n",
        "# Converting each element to integer\n",
        "int_list = [int(x) for x in str_list]\n",
        "print(\"List after converting to integers:\", int_list)\n",
        "\n",
        "# Converting each element to float\n",
        "float_list = [float(x) for x in str_list]\n",
        "print(\"List after converting to floats:\", float_list)"
      ],
      "metadata": {
        "id": "vtTCbldCtRxs"
      },
      "execution_count": null,
      "outputs": []
    },
    {
      "cell_type": "code",
      "source": [
        "# 11. Write a program that checks if a number is positive, negative, or zero.\n",
        "\n",
        "num = float(input(\"Enter a number: \"))\n",
        "\n",
        "# Checking conditions\n",
        "if num > 0:\n",
        "    print(\"The number is positive.\")\n",
        "elif num < 0:\n",
        "    print(\"The number is negative.\")\n",
        "else:\n",
        "    print(\"The number is zero.\")"
      ],
      "metadata": {
        "id": "jhEVYsi1tjO6"
      },
      "execution_count": null,
      "outputs": []
    },
    {
      "cell_type": "code",
      "source": [
        "# 12. Write a for loop to print numbers from 1 to 10.\n",
        "\n",
        "\n",
        "for i in range(1, 11):\n",
        "    print(i)"
      ],
      "metadata": {
        "id": "IoVW726Ot5Dx"
      },
      "execution_count": null,
      "outputs": []
    },
    {
      "cell_type": "code",
      "source": [
        "#  13. Write a Python program to find the sum of all even numbers between 1 and 50.\n",
        "\n",
        "total = 0\n",
        "\n",
        "for num in range(1, 51):\n",
        "    if num % 2 == 0:\n",
        "        total += num\n",
        "\n",
        "print(\"Sum of even numbers from 1 to 50 is:\", total)\n",
        "\n"
      ],
      "metadata": {
        "id": "0uQK8iSvuKHV"
      },
      "execution_count": null,
      "outputs": []
    },
    {
      "cell_type": "code",
      "source": [
        "#  14. Write a program to reverse a string using a while loop.\n",
        "\n",
        "text = input(\"Enter a string: \")\n",
        "\n",
        "# Initializing variables\n",
        "reversed_text = \"\"\n",
        "index = len(text) - 1\n",
        "\n",
        "# Loop to reverse the string\n",
        "while index >= 0:\n",
        "    reversed_text += text[index]\n",
        "    index -= 1\n",
        "\n",
        "print(\"Reversed string:\", reversed_text)"
      ],
      "metadata": {
        "id": "0Q3SBeS-ufAP"
      },
      "execution_count": null,
      "outputs": []
    },
    {
      "cell_type": "code",
      "source": [
        "#  15. Write a Python program to calculate the factorial of a number provided by the user using a while loop.\n",
        "\n",
        "num = int(input(\"Enter a number: \"))\n",
        "\n",
        "factorial = 1\n",
        "i = 1\n",
        "\n",
        "# Calculating factorial\n",
        "while i <= num:\n",
        "    factorial *= i\n",
        "    i += 1\n",
        "\n",
        "print(\"Factorial of\", num, \"is\", factorial)"
      ],
      "metadata": {
        "id": "WagVbjkbu7gW"
      },
      "execution_count": null,
      "outputs": []
    },
    {
      "cell_type": "markdown",
      "source": [
        "# Thank You"
      ],
      "metadata": {
        "id": "6O7-nIsDvNZD"
      }
    }
  ]
}